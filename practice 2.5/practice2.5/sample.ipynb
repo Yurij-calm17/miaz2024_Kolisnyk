{
 "cells": [
  {
   "cell_type": "code",
   "execution_count": 1,
   "metadata": {},
   "outputs": [],
   "source": [
    "#%pip install pandas psycopg2 sqlalchemy\n"
   ]
  },
  {
   "cell_type": "code",
   "execution_count": 2,
   "metadata": {},
   "outputs": [
    {
     "data": {
      "text/html": [
       "<div>\n",
       "<style scoped>\n",
       "    .dataframe tbody tr th:only-of-type {\n",
       "        vertical-align: middle;\n",
       "    }\n",
       "\n",
       "    .dataframe tbody tr th {\n",
       "        vertical-align: top;\n",
       "    }\n",
       "\n",
       "    .dataframe thead th {\n",
       "        text-align: right;\n",
       "    }\n",
       "</style>\n",
       "<table border=\"1\" class=\"dataframe\">\n",
       "  <thead>\n",
       "    <tr style=\"text-align: right;\">\n",
       "      <th></th>\n",
       "      <th>ID</th>\n",
       "      <th>Name</th>\n",
       "      <th>Rank</th>\n",
       "      <th>Training_Program_ID</th>\n",
       "      <th>Date_Enrolled</th>\n",
       "    </tr>\n",
       "  </thead>\n",
       "  <tbody>\n",
       "    <tr>\n",
       "      <th>0</th>\n",
       "      <td>1</td>\n",
       "      <td>John Doe</td>\n",
       "      <td>Captain</td>\n",
       "      <td>101</td>\n",
       "      <td>2024-01-10</td>\n",
       "    </tr>\n",
       "    <tr>\n",
       "      <th>1</th>\n",
       "      <td>2</td>\n",
       "      <td>Jane Smith</td>\n",
       "      <td>Lieutenant</td>\n",
       "      <td>102</td>\n",
       "      <td>2024-01-12</td>\n",
       "    </tr>\n",
       "    <tr>\n",
       "      <th>2</th>\n",
       "      <td>3</td>\n",
       "      <td>Mike Johnson</td>\n",
       "      <td>Sergeant</td>\n",
       "      <td>101</td>\n",
       "      <td>2024-01-15</td>\n",
       "    </tr>\n",
       "    <tr>\n",
       "      <th>3</th>\n",
       "      <td>4</td>\n",
       "      <td>Anna Brown</td>\n",
       "      <td>Lieutenant</td>\n",
       "      <td>103</td>\n",
       "      <td>2024-02-01</td>\n",
       "    </tr>\n",
       "    <tr>\n",
       "      <th>4</th>\n",
       "      <td>5</td>\n",
       "      <td>Chris Green</td>\n",
       "      <td>Sergeant</td>\n",
       "      <td>102</td>\n",
       "      <td>2024-02-05</td>\n",
       "    </tr>\n",
       "  </tbody>\n",
       "</table>\n",
       "</div>"
      ],
      "text/plain": [
       "   ID          Name        Rank  Training_Program_ID Date_Enrolled\n",
       "0   1      John Doe     Captain                  101    2024-01-10\n",
       "1   2    Jane Smith  Lieutenant                  102    2024-01-12\n",
       "2   3  Mike Johnson    Sergeant                  101    2024-01-15\n",
       "3   4    Anna Brown  Lieutenant                  103    2024-02-01\n",
       "4   5   Chris Green    Sergeant                  102    2024-02-05"
      ]
     },
     "execution_count": 2,
     "metadata": {},
     "output_type": "execute_result"
    }
   ],
   "source": [
    "import pandas as pd\n",
    "import psycopg2\n",
    "from sqlalchemy import create_engine\n",
    "\n",
    "# Шлях до файлу Excel\n",
    "excel_path = 'training_data.xlsx'\n",
    "\n",
    "# Читання даних з Excel-файлу\n",
    "df_personnel = pd.read_excel(excel_path, sheet_name='Training_Personnel')\n",
    "df_programs = pd.read_excel(excel_path, sheet_name='Training_Programs')\n",
    "\n",
    "df_personnel.head()\n"
   ]
  },
  {
   "cell_type": "code",
   "execution_count": 3,
   "metadata": {},
   "outputs": [
    {
     "data": {
      "text/html": [
       "<div>\n",
       "<style scoped>\n",
       "    .dataframe tbody tr th:only-of-type {\n",
       "        vertical-align: middle;\n",
       "    }\n",
       "\n",
       "    .dataframe tbody tr th {\n",
       "        vertical-align: top;\n",
       "    }\n",
       "\n",
       "    .dataframe thead th {\n",
       "        text-align: right;\n",
       "    }\n",
       "</style>\n",
       "<table border=\"1\" class=\"dataframe\">\n",
       "  <thead>\n",
       "    <tr style=\"text-align: right;\">\n",
       "      <th></th>\n",
       "      <th>Training_Program_ID</th>\n",
       "      <th>Program_Name</th>\n",
       "      <th>Instructor</th>\n",
       "      <th>Start_Date</th>\n",
       "      <th>End_Date</th>\n",
       "    </tr>\n",
       "  </thead>\n",
       "  <tbody>\n",
       "    <tr>\n",
       "      <th>0</th>\n",
       "      <td>101</td>\n",
       "      <td>Basic Combat</td>\n",
       "      <td>Maj. Winters</td>\n",
       "      <td>2024-01-05</td>\n",
       "      <td>2024-01-20</td>\n",
       "    </tr>\n",
       "    <tr>\n",
       "      <th>1</th>\n",
       "      <td>102</td>\n",
       "      <td>Advanced Tactics</td>\n",
       "      <td>Capt. Winters</td>\n",
       "      <td>2024-01-10</td>\n",
       "      <td>2024-01-25</td>\n",
       "    </tr>\n",
       "    <tr>\n",
       "      <th>2</th>\n",
       "      <td>103</td>\n",
       "      <td>Medical Aid</td>\n",
       "      <td>Sgt. Hartman</td>\n",
       "      <td>2024-02-01</td>\n",
       "      <td>2024-02-15</td>\n",
       "    </tr>\n",
       "  </tbody>\n",
       "</table>\n",
       "</div>"
      ],
      "text/plain": [
       "   Training_Program_ID      Program_Name     Instructor  Start_Date  \\\n",
       "0                  101      Basic Combat   Maj. Winters  2024-01-05   \n",
       "1                  102  Advanced Tactics  Capt. Winters  2024-01-10   \n",
       "2                  103       Medical Aid   Sgt. Hartman  2024-02-01   \n",
       "\n",
       "     End_Date  \n",
       "0  2024-01-20  \n",
       "1  2024-01-25  \n",
       "2  2024-02-15  "
      ]
     },
     "execution_count": 3,
     "metadata": {},
     "output_type": "execute_result"
    }
   ],
   "source": [
    "df_programs.head()"
   ]
  },
  {
   "cell_type": "code",
   "execution_count": 8,
   "metadata": {},
   "outputs": [],
   "source": [
    "\n",
    "def connect_db():\n",
    "    return psycopg2.connect(\n",
    "        database=\"practice2\",\n",
    "        user=\"postgres\",  \n",
    "        password=\"admin\", \n",
    "        host=\"localhost\",\n",
    "        port=\"5434\"\n",
    "    )\n",
    "\n",
    "conn = connect_db()\n"
   ]
  },
  {
   "cell_type": "code",
   "execution_count": 9,
   "metadata": {},
   "outputs": [],
   "source": [
    "cursor = conn.cursor()\n"
   ]
  },
  {
   "cell_type": "code",
   "execution_count": 10,
   "metadata": {},
   "outputs": [
    {
     "name": "stdout",
     "output_type": "stream",
     "text": [
      "Дані успішно завантажено в базу даних PostgreSQL\n"
     ]
    }
   ],
   "source": [
    "# Вставка даних у таблицю Training_Programs\n",
    "for _, row in df_programs.iterrows():\n",
    "    cursor.execute('''\n",
    "        INSERT INTO Training_Programs (Training_Program_ID, Program_Name, Instructor, Start_Date, End_Date) \n",
    "        VALUES (%s, %s, %s, %s, %s)\n",
    "        ON CONFLICT (Training_Program_ID) DO NOTHING\n",
    "    ''', (row['Training_Program_ID'], row['Program_Name'], row['Instructor'], row['Start_Date'], row['End_Date']))\n",
    "\n",
    "# Вставка даних у таблицю Training_Personnel\n",
    "for _, row in df_personnel.iterrows():\n",
    "    cursor.execute('''\n",
    "        INSERT INTO Training_Personnel (ID, Name, Rank, Training_Program_ID, Date_Enrolled) \n",
    "        VALUES (%s, %s, %s, %s, %s)\n",
    "        ON CONFLICT (ID) DO NOTHING\n",
    "    ''', (row['ID'], row['Name'], row['Rank'], row['Training_Program_ID'], row['Date_Enrolled']))\n",
    "\n",
    "conn.commit()\n",
    "print(\"Дані успішно завантажено в базу даних PostgreSQL\")"
   ]
  }
 ],
 "metadata": {
  "kernelspec": {
   "display_name": ".venv",
   "language": "python",
   "name": "python3"
  },
  "language_info": {
   "codemirror_mode": {
    "name": "ipython",
    "version": 3
   },
   "file_extension": ".py",
   "mimetype": "text/x-python",
   "name": "python",
   "nbconvert_exporter": "python",
   "pygments_lexer": "ipython3",
   "version": "3.12.3"
  }
 },
 "nbformat": 4,
 "nbformat_minor": 2
}
