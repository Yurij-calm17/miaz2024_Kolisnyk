{
 "cells": [
  {
   "cell_type": "markdown",
   "metadata": {},
   "source": [
    "# Практична робота 1.5\n",
    "**Тема:** Основи роботи з VS Code для створення файлів формату `.ipynb` (Markdown + Code Cells) + Базовий Python  \n",
    "**Мета:**  \n",
    "- Навчитися створювати та редагувати Jupyter Notebook у VS Code.  \n",
    "- Опрацювати можливості Markdown-розмітки.  \n",
    "- Ознайомитися з базовими конструкціями мови програмування Python.  \n",
    "- Зберегти робочу версію файлу в особистому GitHub-репозиторії у папці `practice_1_5`.  \n"
   ]
  },
  {
   "cell_type": "markdown",
   "metadata": {},
   "source": [
    "## Крок 1. Підготовка робочого середовища\n",
    "\n",
    "1. Відкрийте VS Code (за потреби встановіть необхідні розширення: Jupyter та Python).  \n",
    "2. Створіть новий файл Jupyter Notebook (Файл > New File... > Jupyter Notebook).  \n",
    "3. Збережіть його під назвою `practice_1_5.ipynb`.  \n",
    "\n"
   ]
  },
  {
   "cell_type": "markdown",
   "metadata": {},
   "source": [
    "#Yurij#\n",
    "##5206##\n",
    "###444@ukr.net###\n",
    "1. \"Моя практична робота 1_5\"\n",
    "2. \"Відповіді на питання практичної роботи 1_5\""
   ]
  },
  {
   "cell_type": "code",
   "execution_count": 2,
   "metadata": {},
   "outputs": [
    {
     "name": "stdout",
     "output_type": "stream",
     "text": [
      "Привіт, це моя перша робота з Jupyter Notebook у VS Code!\n"
     ]
    }
   ],
   "source": [
    "\n",
    "print(\"Привіт, це моя перша робота з Jupyter Notebook у VS Code!\")"
   ]
  },
  {
   "cell_type": "code",
   "execution_count": 3,
   "metadata": {},
   "outputs": [
    {
     "name": "stdout",
     "output_type": "stream",
     "text": [
      "Yurij 30 1.45 True\n",
      "<class 'str'> <class 'int'> <class 'float'> <class 'bool'>\n"
     ]
    }
   ],
   "source": [
    "name = \"Yurij\"  # str\n",
    "age = 30        # int\n",
    "height = 1.45   # float\n",
    "is_student = True  # bool\n",
    "\n",
    "print(name, age, height, is_student)\n",
    "print(type(name), type(age), type(height), type(is_student))"
   ]
  },
  {
   "cell_type": "code",
   "execution_count": 4,
   "metadata": {},
   "outputs": [
    {
     "name": "stdout",
     "output_type": "stream",
     "text": [
      "Результат множення 22 на 2: 44\n"
     ]
    }
   ],
   "source": [
    "user_input = input(\"Введіть ціле число: \")\n",
    "number = int(user_input)  # перетворюємо з рядка у ціле\n",
    "result = number * 2\n",
    "print(f\"Результат множення {number} на 2: {result}\")\n"
   ]
  },
  {
   "cell_type": "code",
   "execution_count": 1,
   "metadata": {},
   "outputs": [
    {
     "name": "stdout",
     "output_type": "stream",
     "text": [
      "Ви ще неповнолітній.\n"
     ]
    }
   ],
   "source": [
    "age = int(input(\"Введіть ваш вік: \"))\n",
    "if age < 18:\n",
    "    print(\"Ви ще неповнолітній.\")\n",
    "else:\n",
    "    print(\"Вітаємо! Ви повнолітній.\")\n",
    "print(\"Дякую!\")"
   ]
  },
  {
   "cell_type": "code",
   "execution_count": 27,
   "metadata": {},
   "outputs": [
    {
     "name": "stdout",
     "output_type": "stream",
     "text": [
      "6\n",
      "12\n",
      "18\n",
      "24\n",
      "30\n"
     ]
    }
   ],
   "source": [
    "my_number = 21\n",
    "\n",
    "for i in range(1, my_number + 11):\n",
    "    if i % 6 == 0:\n",
    "        print(i)\n"
   ]
  },
  {
   "cell_type": "markdown",
   "metadata": {},
   "source": [
    "\n",
    "## Крок 6. Додаткове завдання. Калькулятор"
   ]
  },
  {
   "cell_type": "code",
   "execution_count": 22,
   "metadata": {},
   "outputs": [
    {
     "name": "stdout",
     "output_type": "stream",
     "text": [
      "Простий калькулятор\n",
      "Результат: 2000.0\n"
     ]
    }
   ],
   "source": [
    "print(\"Простий калькулятор\")\n",
    "\n",
    "num1 = float(input(\"Введіть перше число: \"))\n",
    "num2 = float(input(\"Введіть друге число: \"))\n",
    "operation = input(\"Оберіть операцію (+, -, *, /): \")\n",
    "\n",
    "if operation == \"+\":\n",
    "    result = num1 + num2\n",
    "elif operation == \"-\":\n",
    "    result = num1 - num2\n",
    "elif operation == \"*\":\n",
    "    result = num1 * num2\n",
    "elif operation == \"/\":\n",
    "    if num2 == 0:\n",
    "        result = \"Помилка: ділення на нуль!\"\n",
    "    else:\n",
    "        result = num1 / num2\n",
    "else:\n",
    "    result = \"Невідома операція!\"\n",
    "\n",
    "print(\"Результат:\", result)"
   ]
  },
  {
   "cell_type": "markdown",
   "metadata": {},
   "source": [
    "\n",
    "\n",
    "## Крок 7. Збереження та завантаження у GitHub\n",
    "\n",
    "1. Збережіть файл **`practice_1_5.ipynb`**.  \n",
    "2. Якщо у вас ще немає локального репозиторію, створіть його будь-яким зручним способом (VS Code, Git Bash тощо) та зв’яжіть з вашим GitHub-репозиторієм.  \n",
    "3. Створіть у репозиторії папку **`practice_1_5`** (якщо ще не створена).  \n",
    "4. Перенесіть файл `practice_1_5.ipynb` до цієї папки, додайте до індексу, виконайте коміт (commit) та відправте зміни (push) у свій GitHub-репозиторій.\n",
    "\n",
    "> **Приклад команд Git (з терміналу VS Code чи Git Bash):**  \n",
    "> ```bash\n",
    "> git add .\n",
    "> git commit -m \"Add practice_1_5 notebook with Python basics\"\n",
    "> git push\n",
    "> ```\n",
    "\n",
    "5. Перевірте на GitHub, чи з’явився ваш файл **`practice_1_5.ipynb`** у папці **`practice_1_5`**.\n"
   ]
  },
  {
   "cell_type": "markdown",
   "metadata": {},
   "source": [
    "\n",
    "## Крок 8. Висновки\n",
    "\n",
    "У кінці файлу додайте короткий висновок:\n",
    "- Які основні можливості Markdown ви спробували?  \n",
    "- Як зручно запускати Python-код у Code Cells?  \n",
    "- Що нового дізналися про базові конструкції Python (змінні, типи, умовні оператори, цикли)?  \n",
    "- Чи виникали труднощі при завантаженні в GitHub?\n",
    " \n",
    "Які основні можливості Markdown ви спробували?\n",
    "Я спробував форматуватитекст. Скористався можливостями Markdown щодо створення заголовків.\n",
    "Зручно запускати  Python-код з комірки Code.\n",
    "Я дізнався нового про базові конструкції Python, а саме: програма сама (автоматично) пропонує варіант,видає помилки."
   ]
  },
  {
   "cell_type": "markdown",
   "metadata": {},
   "source": []
  },
  {
   "cell_type": "markdown",
   "metadata": {},
   "source": [
    "### Результат\n",
    "\n",
    "Після виконання всіх пунктів у вас має бути:\n",
    "1. Створений та заповнений файл **`practice_1_5.ipynb`** із демонстрацією Markdown та кількома фрагментами коду Python (змінні, введення/виведення, умови, цикли).  \n",
    "2. Завантажений (опублікований) файл у вашому репозиторії GitHub у папці **`practice_1_5`**.  \n",
    "\n",
    "На цьому практична робота вважається виконаною.  \n",
    "\n"
   ]
  },
  {
   "cell_type": "markdown",
   "metadata": {},
   "source": [
    "\n",
    "### Як користуватися цим шаблоном?\n",
    "1. Скопіюйте наведений текст у свій новостворений `.ipynb`-файл (у VS Code можна скопіювати все разом в Markdown/Code Cells або додавати поступово).  \n",
    "2. Дотримуйтесь інструкцій кожного кроку, виконайте завдання з базових елементів Python.  \n",
    "3. Збережіть, закомітьте і відправте зміни у GitHub.  \n",
    "\n",
    "**Успіхів у виконанні!**"
   ]
  }
 ],
 "metadata": {
  "kernelspec": {
   "display_name": "Python 3",
   "language": "python",
   "name": "python3"
  },
  "language_info": {
   "codemirror_mode": {
    "name": "ipython",
    "version": 3
   },
   "file_extension": ".py",
   "mimetype": "text/x-python",
   "name": "python",
   "nbconvert_exporter": "python",
   "pygments_lexer": "ipython3",
   "version": "3.11.9"
  }
 },
 "nbformat": 4,
 "nbformat_minor": 2
}
