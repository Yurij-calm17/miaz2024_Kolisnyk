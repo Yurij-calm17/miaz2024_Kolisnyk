{
 "cells": [
  {
   "cell_type": "code",
   "execution_count": 1,
   "metadata": {},
   "outputs": [
    {
     "name": "stdout",
     "output_type": "stream",
     "text": [
      "XML-файл 'unit_data.xml' успішно створено!\n"
     ]
    }
   ],
   "source": [
    "import xml.etree.ElementTree as ET\n",
    "\n",
    "def create_unit_data_xml():\n",
    "    # Дані про підрозділ\n",
    "    unit_data = {\n",
    "        \"name\": \"Технічний відділ\",\n",
    "        \"count\": 25,\n",
    "        \"status\": \"Активний\"\n",
    "    }\n",
    "\n",
    "    # Створення кореневого елемента\n",
    "    root = ET.Element(\"Unit\")\n",
    "\n",
    "    # Додавання елементів до XML\n",
    "    name_element = ET.SubElement(root, \"Name\")\n",
    "    name_element.text = unit_data[\"name\"]\n",
    "\n",
    "    count_element = ET.SubElement(root, \"Count\")\n",
    "    count_element.text = str(unit_data[\"count\"])\n",
    "\n",
    "    status_element = ET.SubElement(root, \"Status\")\n",
    "    status_element.text = unit_data[\"status\"]\n",
    "\n",
    "    # Створення дерева та збереження у файл\n",
    "    tree = ET.ElementTree(root)\n",
    "    with open(\"unit_data.xml\", \"wb\") as xml_file:\n",
    "        tree.write(xml_file, encoding=\"utf-8\", xml_declaration=True)\n",
    "\n",
    "if __name__ == \"__main__\":\n",
    "    create_unit_data_xml()\n",
    "    print(\"XML-файл 'unit_data.xml' успішно створено!\")\n"
   ]
  }
 ],
 "metadata": {
  "kernelspec": {
   "display_name": "Python 3",
   "language": "python",
   "name": "python3"
  },
  "language_info": {
   "codemirror_mode": {
    "name": "ipython",
    "version": 3
   },
   "file_extension": ".py",
   "mimetype": "text/x-python",
   "name": "python",
   "nbconvert_exporter": "python",
   "pygments_lexer": "ipython3",
   "version": "3.11.9"
  }
 },
 "nbformat": 4,
 "nbformat_minor": 2
}
