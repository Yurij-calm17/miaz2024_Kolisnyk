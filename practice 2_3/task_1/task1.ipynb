{
 "cells": [
  {
   "cell_type": "code",
   "execution_count": 2,
   "metadata": {},
   "outputs": [
    {
     "name": "stdout",
     "output_type": "stream",
     "text": [
      "Collecting requests\n",
      "  Downloading requests-2.32.3-py3-none-any.whl.metadata (4.6 kB)\n",
      "Collecting beautifulsoup4\n",
      "  Downloading beautifulsoup4-4.12.3-py3-none-any.whl.metadata (3.8 kB)\n",
      "Collecting charset-normalizer<4,>=2 (from requests)\n",
      "  Downloading charset_normalizer-3.4.1-cp311-cp311-win_amd64.whl.metadata (36 kB)\n",
      "Collecting idna<4,>=2.5 (from requests)\n",
      "  Downloading idna-3.10-py3-none-any.whl.metadata (10 kB)\n",
      "Collecting urllib3<3,>=1.21.1 (from requests)\n",
      "  Downloading urllib3-2.3.0-py3-none-any.whl.metadata (6.5 kB)\n",
      "Collecting certifi>=2017.4.17 (from requests)\n",
      "  Downloading certifi-2024.12.14-py3-none-any.whl.metadata (2.3 kB)\n",
      "Collecting soupsieve>1.2 (from beautifulsoup4)\n",
      "  Downloading soupsieve-2.6-py3-none-any.whl.metadata (4.6 kB)\n",
      "Downloading requests-2.32.3-py3-none-any.whl (64 kB)\n",
      "   ---------------------------------------- 0.0/64.9 kB ? eta -:--:--\n",
      "   ------ --------------------------------- 10.2/64.9 kB ? eta -:--:--\n",
      "   ------ --------------------------------- 10.2/64.9 kB ? eta -:--:--\n",
      "   ------ --------------------------------- 10.2/64.9 kB ? eta -:--:--\n",
      "   ---------------------------------------- 64.9/64.9 kB 350.6 kB/s eta 0:00:00\n",
      "Downloading beautifulsoup4-4.12.3-py3-none-any.whl (147 kB)\n",
      "   ---------------------------------------- 0.0/147.9 kB ? eta -:--:--\n",
      "   ---------------- ----------------------- 61.4/147.9 kB ? eta -:--:--\n",
      "   ---------------- ----------------------- 61.4/147.9 kB ? eta -:--:--\n",
      "   --------------------------------- ------ 122.9/147.9 kB 1.2 MB/s eta 0:00:01\n",
      "   ------------------------------------ - 143.4/147.9 kB 711.9 kB/s eta 0:00:01\n",
      "   -------------------------------------- 147.9/147.9 kB 628.7 kB/s eta 0:00:00\n",
      "Downloading certifi-2024.12.14-py3-none-any.whl (164 kB)\n",
      "   ---------------------------------------- 0.0/164.9 kB ? eta -:--:--\n",
      "   --------- ------------------------------ 41.0/164.9 kB ? eta -:--:--\n",
      "   --------- ------------------------------ 41.0/164.9 kB ? eta -:--:--\n",
      "   -------------------------------- ------- 133.1/164.9 kB 1.1 MB/s eta 0:00:01\n",
      "   -------------------------------- ------- 133.1/164.9 kB 1.1 MB/s eta 0:00:01\n",
      "   -------------------------------------- 164.9/164.9 kB 762.0 kB/s eta 0:00:00\n",
      "Downloading charset_normalizer-3.4.1-cp311-cp311-win_amd64.whl (102 kB)\n",
      "   ---------------------------------------- 0.0/102.4 kB ? eta -:--:--\n",
      "   ---------------------------------------- 102.4/102.4 kB 2.9 MB/s eta 0:00:00\n",
      "Downloading idna-3.10-py3-none-any.whl (70 kB)\n",
      "   ---------------------------------------- 0.0/70.4 kB ? eta -:--:--\n",
      "   ---------------------------------------- 70.4/70.4 kB 4.0 MB/s eta 0:00:00\n",
      "Downloading soupsieve-2.6-py3-none-any.whl (36 kB)\n",
      "Downloading urllib3-2.3.0-py3-none-any.whl (128 kB)\n",
      "   ---------------------------------------- 0.0/128.4 kB ? eta -:--:--\n",
      "   ---------------------------------------- 128.4/128.4 kB 3.8 MB/s eta 0:00:00\n",
      "Installing collected packages: urllib3, soupsieve, idna, charset-normalizer, certifi, requests, beautifulsoup4\n",
      "Successfully installed beautifulsoup4-4.12.3 certifi-2024.12.14 charset-normalizer-3.4.1 idna-3.10 requests-2.32.3 soupsieve-2.6 urllib3-2.3.0\n",
      "Note: you may need to restart the kernel to use updated packages.\n"
     ]
    },
    {
     "name": "stderr",
     "output_type": "stream",
     "text": [
      "  WARNING: The script normalizer.exe is installed in 'c:\\Users\\yurav\\AppData\\Local\\Programs\\Python\\Python311\\Scripts' which is not on PATH.\n",
      "  Consider adding this directory to PATH or, if you prefer to suppress this warning, use --no-warn-script-location.\n",
      "\n",
      "[notice] A new release of pip is available: 24.0 -> 24.3.1\n",
      "[notice] To update, run: python.exe -m pip install --upgrade pip\n"
     ]
    }
   ],
   "source": [
    "%pip install requests beautifulsoup4\n"
   ]
  },
  {
   "cell_type": "code",
   "execution_count": 22,
   "metadata": {},
   "outputs": [
    {
     "name": "stdout",
     "output_type": "stream",
     "text": [
      "1. Вивчення міжнародного гуманітарного права в ЗС України\n",
      "2. Оперативна інформація станом на 08.00 24.12.2024 щодо російського вторгнення\n",
      "3. Зустріч розробників та військових\n",
      "4. Урочистий випуск військових капеланів у Національному заповіднику «Софія Київська»\n",
      "5. За підтримки НАТО у ЗС України тривають заходи з психологічної реабілітації та відновлення боєздатності військовослужбовців\n",
      "6. Оперативна інформація станом на 08.00 23.12.2024 щодо російського вторгнення\n",
      "7. Оперативна інформація станом на 08.00 22.12.2024 щодо російського вторгнення\n",
      "8. «Головна ялинка країни»… на Покровському напрямку\n",
      "9. Офіційне спростування Генерального штабу ЗС України щодо непідтверджених чуток про “переведення ППО в піхоту”\n",
      "10. У Збройних Силах України створено підрозділ із захисту культурної спадщини\n"
     ]
    }
   ],
   "source": [
    "import requests\n",
    "from bs4 import BeautifulSoup\n",
    "\n",
    "def get_news_titles(url):\n",
    "    headers = {\n",
    "        \"User-Agent\": \"Mozilla/5.0 (Windows NT 10.0; Win64; x64) AppleWebKit/537.36 (KHTML, like Gecko) Chrome/91.0.4472.124 Safari/537.36\"\n",
    "    }\n",
    "\n",
    "    try:\n",
    "        # Надсилаємо запит із заголовками\n",
    "        response = requests.get(url, headers=headers)\n",
    "        response.raise_for_status()\n",
    "\n",
    "        # Парсимо HTML сторінки\n",
    "        soup = BeautifulSoup(response.text, 'html.parser')\n",
    "\n",
    "        # Знаходимо всі заголовки новин\n",
    "        titles = soup.select('div.post__title')\n",
    "\n",
    "        # Отримуємо текст із заголовків\n",
    "        news_titles = [title.text.strip() for title in titles]\n",
    "\n",
    "        return news_titles\n",
    "\n",
    "    except requests.RequestException as e:\n",
    "        print(f\"Помилка запиту: {e}\")\n",
    "        return []\n",
    "    except Exception as e:\n",
    "        print(f\"Інша помилка: {e}\")\n",
    "        return []\n",
    "\n",
    "# URL сторінки, яку необхідно обробити\n",
    "url = \"https://www.zsu.gov.ua/category/news/page/4/\"\n",
    "news_titles = get_news_titles(url)\n",
    "\n",
    "# Виведення заголовків\n",
    "for i, title in enumerate(news_titles, 1):\n",
    "    print(f\"{i}. {title}\")\n"
   ]
  }
 ],
 "metadata": {
  "kernelspec": {
   "display_name": "Python 3",
   "language": "python",
   "name": "python3"
  },
  "language_info": {
   "codemirror_mode": {
    "name": "ipython",
    "version": 3
   },
   "file_extension": ".py",
   "mimetype": "text/x-python",
   "name": "python",
   "nbconvert_exporter": "python",
   "pygments_lexer": "ipython3",
   "version": "3.11.9"
  }
 },
 "nbformat": 4,
 "nbformat_minor": 2
}
